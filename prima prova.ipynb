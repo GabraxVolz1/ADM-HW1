{
 "cells": [
  {
   "cell_type": "markdown",
   "metadata": {},
   "source": [
    "# **Homework 1 ADS 2023-2024** \n",
    "# **Gabriele Volzone** \n"
   ]
  },
  {
   "cell_type": "markdown",
   "metadata": {},
   "source": [
    "## PROBLEM 1: Python challenges on HACKER RANK"
   ]
  },
  {
   "cell_type": "markdown",
   "metadata": {},
   "source": [
    "### 1. INTRODUCTION"
   ]
  },
  {
   "cell_type": "markdown",
   "metadata": {},
   "source": [
    "Say \"Hello, World!\" With Python"
   ]
  },
  {
   "cell_type": "code",
   "execution_count": null,
   "metadata": {},
   "outputs": [],
   "source": [
    "if __name__ == '__main__':\n",
    "    print(\"Hello, World!\")"
   ]
  },
  {
   "cell_type": "markdown",
   "metadata": {},
   "source": [
    "Python If-Else"
   ]
  },
  {
   "cell_type": "code",
   "execution_count": null,
   "metadata": {},
   "outputs": [],
   "source": [
    "import math\n",
    "import os\n",
    "import random\n",
    "import re\n",
    "import sys\n",
    "if __name__ == '__main__':\n",
    "    n = int(input().strip())\n",
    "if n % 2 == 1:\n",
    "    print(\"Weird\")\n",
    "elif n in range(2,5) or n>20:\n",
    "    print(\"Not Weird\")\n",
    "else:\n",
    "    print(\"Weird\")"
   ]
  },
  {
   "cell_type": "markdown",
   "metadata": {},
   "source": [
    "Arithmetic Operators"
   ]
  },
  {
   "cell_type": "code",
   "execution_count": null,
   "metadata": {},
   "outputs": [],
   "source": [
    "if __name__ == '__main__':\n",
    "    a = int(input())\n",
    "    b = int(input())\n",
    "    print(a+b)\n",
    "    print(a-b)\n",
    "    print(a*b)"
   ]
  },
  {
   "cell_type": "markdown",
   "metadata": {},
   "source": [
    "Python: Division"
   ]
  },
  {
   "cell_type": "code",
   "execution_count": null,
   "metadata": {},
   "outputs": [],
   "source": [
    "if __name__ == '__main__':\n",
    "    a = int(input())\n",
    "    b = int(input())\n",
    "    print(a//b)\n",
    "    print(a/b)"
   ]
  },
  {
   "cell_type": "markdown",
   "metadata": {},
   "source": [
    "Loops"
   ]
  },
  {
   "cell_type": "code",
   "execution_count": null,
   "metadata": {},
   "outputs": [],
   "source": [
    "if __name__ == '__main__':\n",
    "    n = int(input())\n",
    "    for i in range(n):\n",
    "        print(i**2)\n"
   ]
  },
  {
   "cell_type": "markdown",
   "metadata": {},
   "source": [
    "Write a function"
   ]
  },
  {
   "cell_type": "code",
   "execution_count": null,
   "metadata": {},
   "outputs": [],
   "source": [
    "def is_leap(year):\n",
    "    leap = False\n",
    "    if year%4==0:\n",
    "        if year%100==0:\n",
    "            if year%400==0:\n",
    "                leap = True                  \n",
    "        else:\n",
    "            leap = True\n",
    "    \n",
    "    return leap\n",
    "\n",
    "year = int(input())\n",
    "print(is_leap(year))"
   ]
  },
  {
   "cell_type": "markdown",
   "metadata": {},
   "source": [
    "Print Function"
   ]
  },
  {
   "cell_type": "code",
   "execution_count": null,
   "metadata": {},
   "outputs": [],
   "source": [
    "if __name__ == '__main__':\n",
    "    n = int(input())\n",
    "    for i in range(1,n+1):\n",
    "        print(i, end='')\n"
   ]
  },
  {
   "cell_type": "markdown",
   "metadata": {},
   "source": [
    "### 2. DATA TYPES"
   ]
  },
  {
   "cell_type": "markdown",
   "metadata": {},
   "source": [
    "List Comprehensions"
   ]
  },
  {
   "cell_type": "code",
   "execution_count": null,
   "metadata": {},
   "outputs": [],
   "source": [
    "if __name__ == '__main__':\n",
    "    x = int(input())\n",
    "    y = int(input())\n",
    "    z = int(input())\n",
    "    n = int(input())\n",
    "    solution=[[i, j, k] for i in range(x + 1) for j in range(y +1)\n",
    "    for k in range(z + 1) if i + j + k != n]\n",
    "    print(solution)\n"
   ]
  },
  {
   "cell_type": "markdown",
   "metadata": {},
   "source": [
    "Find the Runner-Up Score!"
   ]
  },
  {
   "cell_type": "code",
   "execution_count": null,
   "metadata": {},
   "outputs": [],
   "source": [
    "if __name__ == '__main__':\n",
    "    n = int(input())\n",
    "    arr = map(int, input().split())\n",
    "    thelist = list(int(x) for x in arr)\n",
    "    winner=max(thelist)\n",
    "    runnerup=max(list(x for x in thelist if x<winner))\n",
    "    print(runnerup)"
   ]
  },
  {
   "cell_type": "markdown",
   "metadata": {},
   "source": [
    "Nested Lists"
   ]
  },
  {
   "cell_type": "code",
   "execution_count": null,
   "metadata": {},
   "outputs": [],
   "source": [
    "if __name__ == '__main__':  \n",
    "    records=list()\n",
    "    people=list()\n",
    "    grades=list()\n",
    "    for _ in range(int(input())):\n",
    "        name = input()\n",
    "        score = float(input())\n",
    "        records.append([name,score])\n",
    "        grades.append(score)\n",
    "        people.append(name)\n",
    "    lowestgrade=min(grades)\n",
    "    records=[x for x in records if x[1]!=lowestgrade]\n",
    "    grades=[x for x in grades if x!=lowestgrade]\n",
    "    seclgrade=min(grades)\n",
    "    sol=[x[0] for x in records if x[1]==seclgrade]\n",
    "    sol.sort()\n",
    "    print(*sol, sep='\\n')\n"
   ]
  },
  {
   "cell_type": "markdown",
   "metadata": {},
   "source": [
    "Finding the percentage"
   ]
  },
  {
   "cell_type": "code",
   "execution_count": null,
   "metadata": {},
   "outputs": [],
   "source": [
    "if __name__ == '__main__':\n",
    "    n = int(input())\n",
    "    student_marks = {}\n",
    "    for _ in range(n):\n",
    "        name, *line = input().split()\n",
    "        scores = list(map(float, line))\n",
    "        student_marks[name] = scores\n",
    "    query_name = input()\n",
    "    media=float((student_marks[query_name][0]\n",
    "                 +student_marks[query_name][1]+student_marks[query_name][2])/3)\n",
    "    print(\"%.2f\" % media)\n"
   ]
  },
  {
   "cell_type": "markdown",
   "metadata": {},
   "source": [
    "Lists"
   ]
  },
  {
   "cell_type": "code",
   "execution_count": null,
   "metadata": {},
   "outputs": [],
   "source": [
    "if __name__ == '__main__':\n",
    "    N = int(input())\n",
    "    L=list()\n",
    "    for _ in range(N):\n",
    "        command = input()\n",
    "        if command=='print':\n",
    "            print(L)\n",
    "        elif command=='pop':\n",
    "            L.pop()\n",
    "        elif command=='sort':\n",
    "            L.sort()\n",
    "        elif command=='reverse':\n",
    "            L.reverse()\n",
    "        elif 'insert' in command:\n",
    "            L.insert(int(command[7]),int(command[9:]))\n",
    "        elif 'remove' in command:\n",
    "            L.remove(int(command[7:]))\n",
    "        elif 'append' in command:\n",
    "            L.append(int(command[7:]))\n",
    "        \n",
    "    \n"
   ]
  },
  {
   "cell_type": "markdown",
   "metadata": {},
   "source": [
    "Tuples"
   ]
  },
  {
   "cell_type": "code",
   "execution_count": null,
   "metadata": {},
   "outputs": [],
   "source": [
    "if __name__ == '__main__':\n",
    "    n = int(input())\n",
    "    integer_list = map(int, input().split())\n",
    "    t = tuple(integer_list)\n",
    "    print(hash(t))\n"
   ]
  },
  {
   "cell_type": "markdown",
   "metadata": {},
   "source": [
    "### 3. STRINGS"
   ]
  },
  {
   "cell_type": "markdown",
   "metadata": {},
   "source": [
    "sWAP cASE\n"
   ]
  },
  {
   "cell_type": "code",
   "execution_count": null,
   "metadata": {},
   "outputs": [],
   "source": [
    "def swap_case(s):\n",
    "    v=list()\n",
    "    for i in range(len(s)):\n",
    "        if s[i].islower():\n",
    "            v.append(s[i].upper())\n",
    "        elif s[i].isupper():\n",
    "            v.append(s[i].lower())\n",
    "        else:\n",
    "            v.append(s[i])\n",
    "    v=''.join(v)\n",
    "    return v\n",
    "\n",
    "if __name__ == '__main__':\n",
    "    s = input()\n",
    "    result = swap_case(s)\n",
    "    print(result)"
   ]
  },
  {
   "cell_type": "markdown",
   "metadata": {},
   "source": [
    "String Split and Join"
   ]
  },
  {
   "cell_type": "code",
   "execution_count": null,
   "metadata": {},
   "outputs": [],
   "source": [
    "def split_and_join(line):\n",
    "    line=line.split(\" \")\n",
    "    line=\"-\".join(line)\n",
    "    return line\n",
    "\n",
    "if __name__ == '__main__':\n",
    "    line = input()\n",
    "    result = split_and_join(line)\n",
    "    print(result)\n"
   ]
  },
  {
   "cell_type": "markdown",
   "metadata": {},
   "source": [
    "What's Your Name?"
   ]
  },
  {
   "cell_type": "code",
   "execution_count": null,
   "metadata": {},
   "outputs": [],
   "source": [
    "def print_full_name(first, last):\n",
    "    print(f\"Hello {first} {last}! You just delved into python.\")\n",
    "\n",
    "if __name__ == '__main__':\n",
    "    first_name = input()\n",
    "    last_name = input()\n",
    "    print_full_name(first_name, last_name)"
   ]
  },
  {
   "cell_type": "markdown",
   "metadata": {},
   "source": [
    "Mutations"
   ]
  },
  {
   "cell_type": "code",
   "execution_count": null,
   "metadata": {},
   "outputs": [],
   "source": [
    "def mutate_string(string, position, character):\n",
    "    l = list(string)\n",
    "    l[position] = character\n",
    "    string = ''.join(l)\n",
    "    return string\n",
    "\n",
    "if __name__ == '__main__':\n",
    "    s = input()\n",
    "    i, c = input().split()\n",
    "    s_new = mutate_string(s, int(i), c)\n",
    "    print(s_new)"
   ]
  },
  {
   "cell_type": "markdown",
   "metadata": {},
   "source": [
    "Find a string"
   ]
  },
  {
   "cell_type": "code",
   "execution_count": null,
   "metadata": {},
   "outputs": [],
   "source": [
    "def count_substring(string, sub_string):\n",
    "    count=0\n",
    "    for i in range(0,len(string)-len(sub_string)+1):\n",
    "        if sub_string==string[i:i+len(sub_string)]:\n",
    "            count=count+1\n",
    "    return count\n",
    "\n",
    "if __name__ == '__main__':\n",
    "    string = input().strip()\n",
    "    sub_string = input().strip()\n",
    "    \n",
    "    count = count_substring(string, sub_string)\n",
    "    print(count)"
   ]
  },
  {
   "cell_type": "markdown",
   "metadata": {},
   "source": [
    "String Validators"
   ]
  },
  {
   "cell_type": "code",
   "execution_count": null,
   "metadata": {},
   "outputs": [],
   "source": [
    "if __name__ == '__main__':\n",
    "    s = input()\n",
    "    count1=0\n",
    "    count2=0\n",
    "    count3=0\n",
    "    count4=0\n",
    "    count5=0\n",
    "    for i in range(0,len(s)):\n",
    "        if s[i].isalnum():\n",
    "            count1=count1+1\n",
    "        if s[i].isalpha():\n",
    "            count2=count2+1\n",
    "        if s[i].isdigit():\n",
    "            count3=count3+1\n",
    "        if s[i].islower():\n",
    "            count4=count4+1\n",
    "        if s[i].isupper():\n",
    "            count5=count5+1\n",
    "    print(count1!=0,count2!=0,count3!=0,count4!=0,count5!=0, sep='\\n')\n"
   ]
  },
  {
   "cell_type": "markdown",
   "metadata": {},
   "source": [
    "Text Alignment"
   ]
  },
  {
   "cell_type": "code",
   "execution_count": null,
   "metadata": {},
   "outputs": [],
   "source": [
    "#i looked up the answer because it was not clear how big all the parts needed to be\n",
    "#\n",
    "# and it would have taken me too long\n",
    "if __name__ == '__main__':\n",
    "    thick = int(input())\n",
    "    char = 'H'\n",
    "\n",
    "    #first traingle\n",
    "    for i in (range(1,thick*2,2)):\n",
    "        x = i*char\n",
    "        print(x.center(thick*2))\n",
    "            \n",
    "    #top pillar\n",
    "    for i in range(thick+1):\n",
    "        x = thick*char\n",
    "        print(x.rjust(thick+(thick//2),' ') + x.rjust(thick*4,' '))\n",
    "            \n",
    "    #center belt\n",
    "    for i in range(0,thick,2):\n",
    "        x = thick*5*char\n",
    "        print(x.rjust(thick*5+(thick//2)))\n",
    "            \n",
    "    #bottom pillar\n",
    "    for i in range(thick+1):\n",
    "        x = thick*char\n",
    "        print(x.rjust(thick+(thick//2),' ') + x.rjust(thick*4,' '))\n",
    "            \n",
    "    #last reversed cone    \n",
    "    for i in reversed((range(1,thick*2,2))):\n",
    "        x = i*char\n",
    "        y = x.center(thick*2)\n",
    "        print(y.rjust(thick*6))\n",
    "        \n"
   ]
  },
  {
   "cell_type": "markdown",
   "metadata": {},
   "source": [
    "Text Wrap"
   ]
  },
  {
   "cell_type": "code",
   "execution_count": null,
   "metadata": {},
   "outputs": [],
   "source": [
    "import textwrap\n",
    "\n",
    "def wrap(string, max_width):\n",
    "    \n",
    "    return '\\n'.join(textwrap.wrap(string, width=max_width))\n",
    "\n",
    "if __name__ == '__main__':\n",
    "    string, max_width = input(), int(input())\n",
    "    result = wrap(string, max_width)\n",
    "    print(result)"
   ]
  },
  {
   "cell_type": "markdown",
   "metadata": {},
   "source": [
    "Designer Door Mat"
   ]
  },
  {
   "cell_type": "code",
   "execution_count": null,
   "metadata": {},
   "outputs": [],
   "source": [
    "if __name__ == '__main__':\n",
    "    n, m = map(int, input().split())\n",
    "    arr = [('.|.'*_n).center(m,'-') for _n in range(1,n, 2)]\n",
    "    print('\\n'.join(arr + [\"WELCOME\".center(m,'-')] + list(reversed(arr))))\n"
   ]
  },
  {
   "cell_type": "markdown",
   "metadata": {},
   "source": [
    "String Formatting"
   ]
  },
  {
   "cell_type": "code",
   "execution_count": null,
   "metadata": {},
   "outputs": [],
   "source": [
    "def print_formatted(number):\n",
    "    width = len(bin(number))-2\n",
    "    for i in range(1,number+1):\n",
    "        dec= format(i)\n",
    "        octal= oct(i)[2:]\n",
    "        hexa= (str(hex(i)[2:])).upper()\n",
    "        bina= bin (i)[2:]\n",
    "        \n",
    "        print(dec.rjust(width,' '), octal.rjust(width,' '),hexa.rjust(width,' '),bina.rjust(width,' '))\n",
    "    \n",
    "\n",
    "if __name__ == '__main__':\n",
    "    n = int(input())\n",
    "    print_formatted(n)"
   ]
  },
  {
   "cell_type": "markdown",
   "metadata": {},
   "source": [
    "Alphabet Rangoli"
   ]
  },
  {
   "cell_type": "code",
   "execution_count": null,
   "metadata": {},
   "outputs": [],
   "source": [
    "def print_rangoli(size):\n",
    "    width = size * 4 - 3\n",
    "    alphabet = list(map(chr, range(97, 123)))\n",
    "    for i in range(size * 2 - 1):\n",
    "        line_size = (abs(size - abs(size - (i + 1))) * 2 - 1)\n",
    "        line = [alphabet[abs(size - abs((line_size // 2) \n",
    "                        - abs((line_size // 2) - x) + 1))] for x in range(line_size)]\n",
    "        line = '-'.join(line).center(width, '-')\n",
    "        \n",
    "        print(''.join(line).center(width,'-'))\n",
    "#i had to look online because i couldn't make it work\n",
    "\n",
    "if __name__ == '__main__':\n",
    "    n = int(input())\n",
    "    print_rangoli(n)"
   ]
  },
  {
   "cell_type": "markdown",
   "metadata": {},
   "source": [
    "Capitalize!"
   ]
  },
  {
   "cell_type": "code",
   "execution_count": null,
   "metadata": {},
   "outputs": [],
   "source": [
    "import math\n",
    "import os\n",
    "import random\n",
    "import re\n",
    "import sys\n",
    "\n",
    "# Complete the solve function below.\n",
    "def solve(s):\n",
    "    slist = s.split(' ')\n",
    "    result = []\n",
    "    for i in slist:\n",
    "        result.append(i.capitalize())\n",
    "    return ' '.join(result)\n",
    "\n",
    "if __name__ == '__main__':\n",
    "    fptr = open(os.environ['OUTPUT_PATH'], 'w')\n",
    "\n",
    "    s = input()\n",
    "\n",
    "    result = solve(s)\n",
    "\n",
    "    fptr.write(result + '\\n')\n",
    "\n",
    "    fptr.close()"
   ]
  },
  {
   "cell_type": "markdown",
   "metadata": {},
   "source": [
    "The Minion Game"
   ]
  },
  {
   "cell_type": "code",
   "execution_count": null,
   "metadata": {},
   "outputs": [],
   "source": [
    "def minion_game(string):\n",
    "    vowels = \"AEIOU\"\n",
    "    stuart_score = 0\n",
    "    kevin_score = 0\n",
    "    length = len(string)\n",
    " \n",
    " #i couldn't find the mathematical pattern to solve the game so i had to look online\n",
    "    for i in range(length):\n",
    "        if string[i] in vowels:\n",
    "            kevin_score = kevin_score + length - i\n",
    "        else:\n",
    "            stuart_score = stuart_score + length - i\n",
    "\n",
    "    if stuart_score > kevin_score:\n",
    "        print(f\"Stuart {stuart_score}\")\n",
    "    elif kevin_score > stuart_score:\n",
    "        print(f\"Kevin {kevin_score}\")\n",
    "    else:\n",
    "        print(\"Draw\")\n",
    "    \n",
    "\n",
    "if __name__ == '__main__':\n",
    "    s = input()\n",
    "    minion_game(s)"
   ]
  },
  {
   "cell_type": "markdown",
   "metadata": {},
   "source": [
    "Merge the Tools"
   ]
  },
  {
   "cell_type": "code",
   "execution_count": null,
   "metadata": {},
   "outputs": [],
   "source": [
    "def merge_the_tools(string, k):\n",
    "    t=list()\n",
    "    u=list()\n",
    "    n=len(string)\n",
    "    for i in range (0,n,k):\n",
    "        t_i = string[i:i+k]\n",
    "        u_i = ''.join(set(list(t_i)))\n",
    "        #i don't know if we were meant to use sets but this is the easiest way\n",
    "        print(u_i)\n",
    "\n",
    "if __name__ == '__main__':\n",
    "    string, k = input(), int(input())\n",
    "    merge_the_tools(string, k)"
   ]
  },
  {
   "cell_type": "markdown",
   "metadata": {},
   "source": [
    "### 4. SETS"
   ]
  },
  {
   "cell_type": "markdown",
   "metadata": {},
   "source": [
    "Set .discard(), .remove() & .pop()"
   ]
  },
  {
   "cell_type": "code",
   "execution_count": null,
   "metadata": {},
   "outputs": [],
   "source": [
    "n=int(input())\n",
    "s=set(map(int, input().split()))\n",
    "N=int(input())\n",
    "for _ in range(N):\n",
    "    command = input()\n",
    "    if command=='pop':\n",
    "        s.pop()\n",
    "        #i don't know why the 'arbitrary number' it removes is always the last one.\n",
    "    elif 'remove' in command:\n",
    "        if int(command[7:]) in s:\n",
    "            s.remove(int(command[7:]))\n",
    "    elif 'discard' in command:\n",
    "        s.discard(int(command[8:]))\n",
    "\n",
    "print(sum(s))"
   ]
  },
  {
   "cell_type": "markdown",
   "metadata": {},
   "source": [
    "Introduction to Sets"
   ]
  },
  {
   "cell_type": "code",
   "execution_count": null,
   "metadata": {},
   "outputs": [],
   "source": [
    "def average(array):\n",
    "    somma=sum(set(array))\n",
    "    avarage= \"{:.3f}\".format(somma/(len(set(array))))\n",
    "    return avarage\n",
    "    \n",
    "\n",
    "if __name__ == '__main__':\n",
    "    n = int(input())\n",
    "    arr = list(map(int, input().split()))\n",
    "    result = average(arr)\n",
    "    print(result)"
   ]
  },
  {
   "cell_type": "markdown",
   "metadata": {},
   "source": [
    "No Idea!"
   ]
  },
  {
   "cell_type": "code",
   "execution_count": null,
   "metadata": {},
   "outputs": [],
   "source": [
    "if __name__ == '__main__':\n",
    "    n,m = map(int, input().split())\n",
    "    arr = list(map(int, input().split()))\n",
    "    A = set(map(int, input().split()))\n",
    "    B = set(map(int, input().split()))\n",
    "    happy=0\n",
    "    for i in range(n):\n",
    "        if arr[i] in A:\n",
    "            happy +=1\n",
    "        elif arr[i] in B:\n",
    "            happy +=-1\n",
    "    print(happy)\n"
   ]
  },
  {
   "cell_type": "markdown",
   "metadata": {},
   "source": [
    "Symmetric Difference"
   ]
  },
  {
   "cell_type": "code",
   "execution_count": null,
   "metadata": {},
   "outputs": [],
   "source": [
    "if __name__ == '__main__':\n",
    "    m = int(input())\n",
    "    M = set(map(int, input().split()))\n",
    "    n = int(input())\n",
    "    N = set(map(int, input().split()))\n",
    "    result=list((M.difference(N)).union((N.difference(M))))\n",
    "    result.sort()\n",
    "    print(*result, sep='\\n')\n"
   ]
  },
  {
   "cell_type": "markdown",
   "metadata": {},
   "source": [
    "Set.add()"
   ]
  },
  {
   "cell_type": "code",
   "execution_count": null,
   "metadata": {},
   "outputs": [],
   "source": [
    "N=int(input())\n",
    "country=set()\n",
    "for i in range(N):\n",
    "    a=input()\n",
    "    country.add(a)\n",
    "print(len(country))\n"
   ]
  },
  {
   "cell_type": "markdown",
   "metadata": {},
   "source": [
    "Set.union() Operation"
   ]
  },
  {
   "cell_type": "code",
   "execution_count": null,
   "metadata": {},
   "outputs": [],
   "source": [
    "n=int(input())\n",
    "English=set(map(int, input().split()))\n",
    "b=int(input())\n",
    "French=set(map(int, input().split()))\n",
    "print(len(English.union(French)))\n"
   ]
  },
  {
   "cell_type": "markdown",
   "metadata": {},
   "source": [
    "Set.intersection() Operation"
   ]
  },
  {
   "cell_type": "code",
   "execution_count": null,
   "metadata": {},
   "outputs": [],
   "source": [
    "n=int(input())\n",
    "English=set(map(int, input().split()))\n",
    "b=int(input())\n",
    "French=set(map(int, input().split()))\n",
    "print(len(English.intersection(French)))\n"
   ]
  },
  {
   "cell_type": "markdown",
   "metadata": {},
   "source": [
    "Set.difference( Operation)"
   ]
  },
  {
   "cell_type": "code",
   "execution_count": null,
   "metadata": {},
   "outputs": [],
   "source": [
    "n=int(input())\n",
    "English=set(map(int, input().split()))\n",
    "b=int(input())\n",
    "French=set(map(int, input().split()))\n",
    "print(len(English.difference(French)))\n"
   ]
  },
  {
   "cell_type": "markdown",
   "metadata": {},
   "source": [
    "Set.symmetric_difference() Operation"
   ]
  },
  {
   "cell_type": "code",
   "execution_count": null,
   "metadata": {},
   "outputs": [],
   "source": [
    "n=int(input())\n",
    "English=set(map(int, input().split()))\n",
    "b=int(input())\n",
    "French=set(map(int, input().split()))\n",
    "print(len(English^(French)))\n"
   ]
  },
  {
   "cell_type": "markdown",
   "metadata": {},
   "source": [
    "Set Mutations"
   ]
  },
  {
   "cell_type": "code",
   "execution_count": null,
   "metadata": {},
   "outputs": [],
   "source": [
    "n=int(input())\n",
    "A=set(map(int, input().split()))\n",
    "N=int(input())\n",
    "for _ in range(0,2*N,2):\n",
    "    command=list(map(str, input().split()))\n",
    "    OS=set(map(int, input().split()))\n",
    "    if 'intersection_update' in command:\n",
    "        A.intersection_update(OS)\n",
    "    elif command[0]=='update':\n",
    "        A.update(OS)\n",
    "    elif 'symmetric_difference_update' in command:\n",
    "        A.symmetric_difference_update(OS)\n",
    "    elif 'difference_update' in command:\n",
    "        A.difference_update(OS)\n",
    "\n",
    "print(sum(A))\n"
   ]
  },
  {
   "cell_type": "markdown",
   "metadata": {},
   "source": [
    "The Captain's Room"
   ]
  },
  {
   "cell_type": "code",
   "execution_count": null,
   "metadata": {},
   "outputs": [],
   "source": [
    "n=int(input())\n",
    "lista=list(map(int,input().split()))\n",
    "halfpoint = len(lista)//2\n",
    "half1=set(lista[:halfpoint])\n",
    "half2=set(lista[halfpoint:])\n",
    "\n",
    "diff1 = half1.difference(half2)\n",
    "diff2 = half2.difference(half1)\n",
    "if len(diff1) == 1:\n",
    "    print(*diff1)\n",
    "else:\n",
    "    print(*diff2)\n"
   ]
  },
  {
   "cell_type": "markdown",
   "metadata": {},
   "source": [
    "Check Subset"
   ]
  },
  {
   "cell_type": "code",
   "execution_count": null,
   "metadata": {},
   "outputs": [],
   "source": [
    "N=int(input())\n",
    "for _ in range(0,4*N,4):\n",
    "    a=int(input())\n",
    "    A=set(map(int, input().split()))\n",
    "    b=int(input())\n",
    "    B=set(map(int, input().split()))\n",
    "    if B.intersection(A)==A:\n",
    "        print('True')\n",
    "    else:\n",
    "        print('False')\n"
   ]
  },
  {
   "cell_type": "markdown",
   "metadata": {},
   "source": [
    "Check Strict Superset"
   ]
  },
  {
   "cell_type": "code",
   "execution_count": null,
   "metadata": {},
   "outputs": [],
   "source": [
    "A=set(map(int, input().split()))\n",
    "n=int(input())\n",
    "K=0\n",
    "for _ in range(n):\n",
    "    OS=set(map(int, input().split()))\n",
    "    if A.intersection(OS)!=OS:\n",
    "        K += 1\n",
    "    if A==OS:\n",
    "        K +=1\n",
    "if K==0:\n",
    "    print(True)\n",
    "else:\n",
    "    print(False)\n"
   ]
  },
  {
   "cell_type": "markdown",
   "metadata": {},
   "source": [
    "### 5. COLLECTIONS"
   ]
  },
  {
   "cell_type": "markdown",
   "metadata": {},
   "source": [
    "collections.Counter()"
   ]
  },
  {
   "cell_type": "code",
   "execution_count": null,
   "metadata": {},
   "outputs": [],
   "source": [
    "from collections import Counter\n",
    "X=int(input())\n",
    "shoelist=list(map(int, input().split()))\n",
    "N=int(input())\n",
    "orders = [[int(i) for i in input().split()] for i in range(N)]\n",
    "shoecounter = Counter(shoelist)\n",
    "money=0\n",
    "for x in orders:\n",
    "    shoesize = x[0]\n",
    "    price = x[1]\n",
    "    if shoesize in shoecounter and shoecounter[shoesize]>0:\n",
    "        shoecounter[shoesize] -= 1 \n",
    "        money+= price\n",
    "print(money)\n"
   ]
  },
  {
   "cell_type": "markdown",
   "metadata": {},
   "source": [
    "DefaultDict Tutorial"
   ]
  },
  {
   "cell_type": "code",
   "execution_count": null,
   "metadata": {},
   "outputs": [],
   "source": [
    "from collections import defaultdict\n",
    "d = defaultdict(list)\n",
    "n,m=map(int, input().split())\n",
    "for i in range(n):\n",
    "    x=input()\n",
    "    d[x].append(i+1)\n",
    "for j in range(m):\n",
    "    y=input()\n",
    "    if y in d:\n",
    "        print(*d[y], sep=' ')\n",
    "    else:\n",
    "        print('-1')"
   ]
  },
  {
   "cell_type": "markdown",
   "metadata": {},
   "source": [
    "Collections.namedtuple()"
   ]
  },
  {
   "cell_type": "code",
   "execution_count": null,
   "metadata": {},
   "outputs": [],
   "source": [
    "from collections import namedtuple\n",
    "N=int(input())\n",
    "Student = namedtuple('Student', \" \".join(input().split()))\n",
    "print(sum([int(s.MARKS) for s in [Student(*input().split()) for _ in range(N)]])/N)"
   ]
  },
  {
   "cell_type": "markdown",
   "metadata": {},
   "source": [
    "Collections.OrderedDict()"
   ]
  },
  {
   "cell_type": "code",
   "execution_count": null,
   "metadata": {},
   "outputs": [],
   "source": [
    "from collections import OrderedDict\n",
    "N=int(input())\n",
    "ordered_dictionary = OrderedDict()\n",
    "for _ in range(N):\n",
    "    purchase=list(input().split())\n",
    "    a = \" \".join(purchase[:-1])\n",
    "    p = int(purchase[-1])\n",
    "    if a in ordered_dictionary:\n",
    "        ordered_dictionary[a] += p\n",
    "    else:\n",
    "        ordered_dictionary[a] = p\n",
    "for item in ordered_dictionary: \n",
    "    print(item, ordered_dictionary[item])"
   ]
  },
  {
   "cell_type": "markdown",
   "metadata": {},
   "source": [
    "Word Order"
   ]
  },
  {
   "cell_type": "code",
   "execution_count": null,
   "metadata": {},
   "outputs": [],
   "source": [
    "from collections import OrderedDict\n",
    "N=int(input())\n",
    "ordered_dictionary = OrderedDict()\n",
    "for _ in range(N):\n",
    "    word=input()\n",
    "    if word in ordered_dictionary:\n",
    "        ordered_dictionary[word] += 1\n",
    "    else:\n",
    "        ordered_dictionary[word] = 1\n",
    "print(len(ordered_dictionary))\n",
    "print(*[ordered_dictionary[item] for item in ordered_dictionary], sep=\" \")"
   ]
  },
  {
   "cell_type": "markdown",
   "metadata": {},
   "source": [
    "Collections.deque()"
   ]
  },
  {
   "cell_type": "code",
   "execution_count": null,
   "metadata": {},
   "outputs": [],
   "source": [
    "from collections import deque\n",
    "d = deque()\n",
    "N=int(input())\n",
    "for _ in range(N):\n",
    "        command = input().split()\n",
    "        if command[0]=='pop':\n",
    "            d.pop()\n",
    "        elif command[0]=='popleft':\n",
    "            d.popleft()\n",
    "        elif command[0]=='append':\n",
    "            d.append(command[1])\n",
    "        elif command[0]=='appendleft':\n",
    "            d.appendleft(command[1])\n",
    "print(*d)"
   ]
  },
  {
   "cell_type": "markdown",
   "metadata": {},
   "source": [
    "Company Logo"
   ]
  },
  {
   "cell_type": "code",
   "execution_count": null,
   "metadata": {},
   "outputs": [],
   "source": [
    "import math\n",
    "import os\n",
    "import random\n",
    "import re\n",
    "import sys\n",
    "from collections import Counter\n",
    "   \n",
    "\n",
    "if __name__ == '__main__':\n",
    "    logo = (Counter(sorted(list(input()))).most_common(3))\n",
    "    for item in logo:\n",
    "        print(*item)"
   ]
  },
  {
   "cell_type": "markdown",
   "metadata": {},
   "source": [
    "Piling Up!"
   ]
  },
  {
   "cell_type": "code",
   "execution_count": null,
   "metadata": {},
   "outputs": [],
   "source": [
    "from collections import deque\n",
    "d = deque()\n",
    "N=int(input())\n",
    "for _ in range(0,2*N,2):\n",
    "    n=int(input())\n",
    "    d= deque(map(int, input().split()))      \n",
    "    last = float('inf')\n",
    "    while d:\n",
    "        if last >= d[0] >= d[-1]:\n",
    "            last = d.popleft()\n",
    "        elif last >= d[-1] >= d[0]:\n",
    "            last = d.pop()\n",
    "        else:\n",
    "            print('No')\n",
    "            break\n",
    "        \n",
    "    if not d:\n",
    "        print('Yes')   "
   ]
  },
  {
   "cell_type": "markdown",
   "metadata": {},
   "source": [
    "### 6. DATE AND TIME"
   ]
  },
  {
   "cell_type": "markdown",
   "metadata": {},
   "source": [
    "Calendar Module"
   ]
  },
  {
   "cell_type": "code",
   "execution_count": null,
   "metadata": {},
   "outputs": [],
   "source": [
    "import calendar\n",
    "month,day,year=map(int, input().split())\n",
    "n=calendar.weekday(year, month, day)\n",
    "print(calendar.day_name[n].upper())"
   ]
  },
  {
   "cell_type": "markdown",
   "metadata": {},
   "source": [
    "Time Delta"
   ]
  },
  {
   "cell_type": "code",
   "execution_count": null,
   "metadata": {},
   "outputs": [],
   "source": [
    "import math\n",
    "import os\n",
    "import random\n",
    "import re\n",
    "import sys\n",
    "\n",
    "# Complete the time_delta function below.\n",
    "import time\n",
    "from datetime import datetime, timedelta\n",
    "#i looked online to find these modules and methods, I couldn't solve the problem without these shortcuts\n",
    "def time_delta(t1, t2):\n",
    "    format_string = \"%a %d %b %Y %H:%M:%S %z\" \n",
    "    t1 = datetime.strptime(t1, format_string)\n",
    "    t2 = datetime.strptime(t2, format_string) \n",
    "    diff = int(abs(t1 - t2).total_seconds())\n",
    "    return str(diff)\n",
    "      \n",
    "    \n",
    "    \n",
    "    \n",
    "if __name__ == '__main__':\n",
    "    fptr = open(os.environ['OUTPUT_PATH'], 'w')\n",
    "\n",
    "    t =  int(input())\n",
    "\n",
    "    for t_itr in range(t):\n",
    "        t1 = input()\n",
    "\n",
    "        t2 = input()\n",
    "\n",
    "        delta = time_delta(t1, t2)\n",
    "\n",
    "        fptr.write(delta + '\\n')\n",
    "\n",
    "    fptr.close()"
   ]
  },
  {
   "cell_type": "markdown",
   "metadata": {},
   "source": [
    "### 7.  EXCEPTIONS \n"
   ]
  },
  {
   "cell_type": "markdown",
   "metadata": {},
   "source": [
    "Exceptions"
   ]
  },
  {
   "cell_type": "code",
   "execution_count": null,
   "metadata": {},
   "outputs": [],
   "source": [
    "T=int(input())\n",
    "for _ in range(T):\n",
    "    \n",
    "    try:\n",
    "        a,b=map(int, input().split())\n",
    "        print(a // b)\n",
    "    except ZeroDivisionError as e:\n",
    "        print(\"Error Code:\",e)\n",
    "    except ValueError as e:\n",
    "        print(\"Error Code:\",e)"
   ]
  },
  {
   "cell_type": "markdown",
   "metadata": {},
   "source": [
    "\n",
    "### 8. BUILT-INS (only 3 - max points: 80)\n"
   ]
  },
  {
   "cell_type": "markdown",
   "metadata": {},
   "source": [
    "Zipped!"
   ]
  },
  {
   "cell_type": "code",
   "execution_count": null,
   "metadata": {},
   "outputs": [],
   "source": [
    "N,X=map(int, input().split())\n",
    "subject=[]\n",
    "\n",
    "for i in range(X):\n",
    "    subject.append(list(map(float, input().split())))\n",
    "for i in range(N):\n",
    "    sum=0\n",
    "    for j in range(X):\n",
    "        sum += subject[j][i]\n",
    "    print(sum/X)"
   ]
  },
  {
   "cell_type": "markdown",
   "metadata": {},
   "source": [
    "Athlete Sort"
   ]
  },
  {
   "cell_type": "code",
   "execution_count": null,
   "metadata": {},
   "outputs": [],
   "source": [
    "import math\n",
    "import os\n",
    "import random\n",
    "import re\n",
    "import sys\n",
    "\n",
    "\n",
    "\n",
    "if __name__ == '__main__':\n",
    "    nm = input().split()\n",
    "\n",
    "    n = int(nm[0])\n",
    "\n",
    "    m = int(nm[1])\n",
    "\n",
    "    arr = []\n",
    "\n",
    "    for _ in range(n):\n",
    "        arr.append(list(map(int, input().rstrip().split())))\n",
    "\n",
    "    k = int(input())\n",
    "    \n",
    "    arr.sort(key=lambda x: x[k])\n",
    "    for x in arr:\n",
    "        print(*x)"
   ]
  },
  {
   "cell_type": "markdown",
   "metadata": {},
   "source": [
    "ginortS"
   ]
  },
  {
   "cell_type": "code",
   "execution_count": null,
   "metadata": {},
   "outputs": [],
   "source": [
    "s=list(input())\n",
    "for i in range(len(s)):\n",
    "    if s[i].isalpha():\n",
    "        if s[i].islower():\n",
    "            s[i]=[s[i],0]\n",
    "        elif s[i].isupper():\n",
    "            s[i]=[s[i],1]\n",
    "    else:\n",
    "        if int(s[i])%2==1:\n",
    "            s[i]=[s[i],2]\n",
    "        else:\n",
    "            s[i]=[s[i],3]\n",
    "s.sort(key=lambda x: (x[1],x[0]))\n",
    "s=''.join([s[j][0] for j in range(len(s))])\n",
    "print(s)"
   ]
  },
  {
   "cell_type": "markdown",
   "metadata": {},
   "source": [
    "### 9. PYTHON FUNCTIONAL"
   ]
  },
  {
   "cell_type": "markdown",
   "metadata": {},
   "source": [
    "Map and Lambda Function"
   ]
  },
  {
   "cell_type": "code",
   "execution_count": null,
   "metadata": {},
   "outputs": [],
   "source": [
    "cube = lambda x: x*x*x # complete the lambda function \n",
    "\n",
    "def fibonacci(n):\n",
    "    if n==0:\n",
    "        fib=[]\n",
    "    if n==1:\n",
    "        fib=[0]\n",
    "    if n>=2:\n",
    "        fib=[0,1]\n",
    "        for i in range(2,n):\n",
    "            fib.append(fib[i-1]+fib[i-2])\n",
    "    return fib\n",
    "    \n",
    "    # return a list of fibonacci numbers\n",
    "\n",
    "if __name__ == '__main__':\n",
    "    n = int(input())\n",
    "    print(list(map(cube, fibonacci(n))))"
   ]
  },
  {
   "cell_type": "markdown",
   "metadata": {},
   "source": [
    "### 10. REGEX AND PARSING CHALLENGES"
   ]
  },
  {
   "cell_type": "markdown",
   "metadata": {},
   "source": [
    "Detect Floating Point Number"
   ]
  },
  {
   "cell_type": "code",
   "execution_count": null,
   "metadata": {},
   "outputs": [],
   "source": [
    "import re\n",
    "T=int(input())\n",
    "for _ in range(T):\n",
    "    a=re.search(r\"^([\\+\\-])?\\d*\\.\\d+$\", input())\n",
    "    print(bool(a))\n"
   ]
  },
  {
   "cell_type": "markdown",
   "metadata": {},
   "source": [
    "Re.split()"
   ]
  },
  {
   "cell_type": "code",
   "execution_count": null,
   "metadata": {},
   "outputs": [],
   "source": [
    "regex_pattern = r\"[,.]\"\t\n",
    "\n",
    "import re\n",
    "print(\"\\n\".join(re.split(regex_pattern, input())))"
   ]
  },
  {
   "cell_type": "markdown",
   "metadata": {},
   "source": [
    "Group(), Groups() & Groupdict()"
   ]
  },
  {
   "cell_type": "code",
   "execution_count": null,
   "metadata": {},
   "outputs": [],
   "source": [
    "import re\n",
    "pattern = re.compile(r\"([A-Za-z0-9])\\1\")\n",
    "m = re.search(pattern,input())\n",
    "if m:\n",
    "    print(m.group(1))\n",
    "else:\n",
    "    print(-1)   \n"
   ]
  },
  {
   "cell_type": "markdown",
   "metadata": {},
   "source": [
    "Re.start() & Re.end()"
   ]
  },
  {
   "cell_type": "code",
   "execution_count": null,
   "metadata": {},
   "outputs": [],
   "source": [
    "import re\n",
    "S = input()\n",
    "k = input()\n",
    "if re.search(fr'{k}', S) is not None:\n",
    "    matches = re.finditer(fr'(?={k})', S)\n",
    "    for m in matches:\n",
    "        print((m.start(), m.start() + len(k) - 1))\n",
    "else:\n",
    "    print((-1, -1))\n"
   ]
  },
  {
   "cell_type": "markdown",
   "metadata": {},
   "source": [
    "Re.findall() & Re.finditer()"
   ]
  },
  {
   "cell_type": "code",
   "execution_count": null,
   "metadata": {},
   "outputs": [],
   "source": [
    "import re\n",
    "pattern = re.compile(r'([qwrtypsdfghjklzxcvbnm]*)([aeiou]{2,})([qwrtypsdfghjklzxcvbnm]+)', re.IGNORECASE)\n",
    "solution = map(lambda x: x.group(2), re.finditer(pattern, input()))\n",
    "if solution is not None:\n",
    "    print('\\n'.join(solution))\n",
    "else:\n",
    "    print('-1')\n",
    "#negli input dove non dovrebbe trovare pattern mi restituisce una riga vuota invece che -1"
   ]
  },
  {
   "cell_type": "markdown",
   "metadata": {},
   "source": [
    "Regex Substitution"
   ]
  },
  {
   "cell_type": "code",
   "execution_count": null,
   "metadata": {},
   "outputs": [],
   "source": [
    "import re\n",
    "pattern = re.compile(r'(?<= )(&&|\\|\\|)(?= )')\n",
    "for _ in range(int(input())):\n",
    "    print(re.sub(pattern,lambda x: 'and' if x.group(0)=='&&' else 'or',input()))\n"
   ]
  },
  {
   "cell_type": "markdown",
   "metadata": {},
   "source": [
    "Validating Roman Numerals"
   ]
  },
  {
   "cell_type": "code",
   "execution_count": null,
   "metadata": {},
   "outputs": [],
   "source": [
    "regex_pattern = r\"^M{,3}(C[DM]|D?C{,3})(X[LC]|L?X{,3})(I[VX]|V?I{,3})$\"\t# Do not delete 'r'.\n",
    "\n",
    "\n",
    "import re\n",
    "print(str(bool(re.match(regex_pattern, input()))))"
   ]
  },
  {
   "cell_type": "markdown",
   "metadata": {},
   "source": [
    "Validating phone numbers"
   ]
  },
  {
   "cell_type": "code",
   "execution_count": null,
   "metadata": {},
   "outputs": [],
   "source": [
    "import re\n",
    "regex_pattern = r\"^([798]{1,1})(\\d{9,9})$\"   \n",
    "for _ in range(int(input())):\n",
    "    if bool(re.match(regex_pattern, input())):\n",
    "        print('YES')\n",
    "    else:\n",
    "        print('NO')\n"
   ]
  },
  {
   "cell_type": "markdown",
   "metadata": {},
   "source": [
    "Validating and Parsing Email Addresses"
   ]
  },
  {
   "cell_type": "code",
   "execution_count": null,
   "metadata": {},
   "outputs": [],
   "source": [
    "import re\n",
    "import email.utils\n",
    "pattern = r'^[a-z]{1,1}[\\w\\-\\.\\_]+@[a-z]+\\.[a-z]{1,3}$'\n",
    "for _ in range(int(input())):\n",
    "    addr = input()\n",
    "    name, address = email.utils.parseaddr(addr)\n",
    "    if bool(re.match(pattern, address)):\n",
    "        print(addr)"
   ]
  },
  {
   "cell_type": "markdown",
   "metadata": {},
   "source": [
    "Hex Color Code"
   ]
  },
  {
   "cell_type": "code",
   "execution_count": null,
   "metadata": {},
   "outputs": [],
   "source": [
    "import re\n",
    "\n",
    "pattern = re.compile(r'([#][0-9a-fA-F]{3,3}|[#][0-9a-fA-F]{6,6})[\\;\\,\\)]')\n",
    "\n",
    "for _ in range(int(input())):\n",
    "    colors = pattern.findall(input())\n",
    "    if colors:\n",
    "        print(*colors, sep='\\n')"
   ]
  },
  {
   "cell_type": "markdown",
   "metadata": {},
   "source": [
    "HTML Parser - Part 1"
   ]
  },
  {
   "cell_type": "code",
   "execution_count": null,
   "metadata": {},
   "outputs": [],
   "source": [
    "from HTMLParser import HTMLParser\n",
    "\n",
    "class MyHTMLParser(HTMLParser):\n",
    "    def handle_starttag(self, tag, attrs):\n",
    "        print(\"Start :\", tag)\n",
    "    def handle_endtag(self, tag):\n",
    "        print(\"End :\", tag)\n",
    "    def handle_startendtag(self, tag, attrs):\n",
    "        print(\"Empty :\", tag)\n",
    "\n",
    "for _ in range(int(input())):\n",
    "    parser = MyHTMLParser()\n",
    "    parser.feed(input())"
   ]
  },
  {
   "cell_type": "markdown",
   "metadata": {},
   "source": [
    "HTML Parser - Part 2"
   ]
  },
  {
   "cell_type": "code",
   "execution_count": null,
   "metadata": {},
   "outputs": [],
   "source": [
    "from html.parser import HTMLParser\n",
    "\n",
    "class MyHTMLParser(HTMLParser):\n",
    "    def handle_comment(self, data):\n",
    "        if '\\n' in data:\n",
    "            print(f\">>> Multi-line Comment\\n{data}\")\n",
    "        else:\n",
    "            print(f\">>> Single-line Comment\\n{data}\")\n",
    "    def handle_data(self, data):\n",
    "        if data != '\\n':\n",
    "            print(f\">>> Data\\n{data}\")\n",
    "\n",
    "lines = []\n",
    "for _ in range(int(input())):\n",
    "    lines.append(input())\n",
    "html = '\\n'.join(lines)\n",
    "\n",
    "parser = MyHTMLParser()\n",
    "parser.feed(html)\n"
   ]
  },
  {
   "cell_type": "markdown",
   "metadata": {},
   "source": [
    "Detect HTML Tags, Attributes and Attribute Values"
   ]
  },
  {
   "cell_type": "code",
   "execution_count": null,
   "metadata": {},
   "outputs": [],
   "source": [
    "from html.parser import HTMLParser\n",
    "\n",
    "class MyHTMLParser(HTMLParser):\n",
    "    def handle_starttag(self, tag, attrs):\n",
    "        if r'<!--(.*?)-->' not in tag:\n",
    "            print(tag)\n",
    "            if attrs:\n",
    "                for attr in attrs:\n",
    "                    print(f'-> {attr[0]} > {attr[1]}')\n",
    "    #doesn't require end tags to be shown\n",
    "    def handle_startendtag(self, tag, attrs):\n",
    "        print(tag)\n",
    "        if attrs:\n",
    "            for attr in attrs:\n",
    "                print(f'-> {attr[0]} > {attr[1]}')\n",
    "\n",
    "lines = []\n",
    "for _ in range(int(input())):\n",
    "    lines.append(input())\n",
    "html = '\\n'.join(lines)\n",
    "\n",
    "parser = MyHTMLParser()\n",
    "parser.feed(html)"
   ]
  },
  {
   "cell_type": "markdown",
   "metadata": {},
   "source": [
    "Validating UID"
   ]
  },
  {
   "cell_type": "code",
   "execution_count": null,
   "metadata": {},
   "outputs": [],
   "source": [
    "import re\n",
    "pattern = r'^(?=(?:[^A-Z]*[A-Z]){2,})(?=(?:\\D*\\d){3,})(?!.*(.).*\\1)[A-Za-z0-9]{10}$'  \n",
    "for _ in range(int(input())):\n",
    "    if bool(re.match(pattern, input())):\n",
    "        print('Valid')\n",
    "    else:\n",
    "        print('Invalid')"
   ]
  },
  {
   "cell_type": "markdown",
   "metadata": {},
   "source": [
    "Validating Credit Card Numbers"
   ]
  },
  {
   "cell_type": "code",
   "execution_count": null,
   "metadata": {},
   "outputs": [],
   "source": [
    "import re\n",
    "regex_pattern = r\"(?!.*(\\d)(-?\\1){3,})^([456]{1})([0-9]{3})(\\-?[0-9]{4}){3}$\"\n",
    "#(?!.*(\\d)(-?\\1){3,}) I couldn't find a way to detect consecutives using regex \n",
    "#\n",
    "# so I had to look up this first part of the pattern\n",
    "for _ in range(int(input())):\n",
    "    if bool(re.match(regex_pattern, input())):\n",
    "        print('Valid')\n",
    "    else:\n",
    "        print('Invalid')"
   ]
  },
  {
   "cell_type": "markdown",
   "metadata": {},
   "source": [
    "Validating Postal Codes"
   ]
  },
  {
   "cell_type": "code",
   "execution_count": null,
   "metadata": {},
   "outputs": [],
   "source": [
    "regex_integer_in_range = r\"^[1-9]{1}[0-9]{5}$\"\n",
    "regex_alternating_repetitive_digit_pair = r\"([0-9])(?=[0-9]\\1)\"\n",
    "\n",
    "\n",
    "import re\n",
    "P = input()\n",
    "\n",
    "print (bool(re.match(regex_integer_in_range, P)) \n",
    "and len(re.findall(regex_alternating_repetitive_digit_pair, P)) < 2)"
   ]
  },
  {
   "cell_type": "markdown",
   "metadata": {},
   "source": [
    "Matrix Script"
   ]
  },
  {
   "cell_type": "code",
   "execution_count": null,
   "metadata": {},
   "outputs": [],
   "source": [
    "import math\n",
    "import os\n",
    "import random\n",
    "import re\n",
    "import sys\n",
    "\n",
    "first_multiple_input = input().rstrip().split()\n",
    "\n",
    "n = int(first_multiple_input[0])\n",
    "\n",
    "m = int(first_multiple_input[1])\n",
    "\n",
    "matrix = []\n",
    "\n",
    "for _ in range(n):\n",
    "    matrix_item = input()\n",
    "    matrix.append(matrix_item)\n",
    "decoded=[]\n",
    "for i in range(m):\n",
    "    for j in range(n):\n",
    "        decoded.append(matrix[j][i])\n",
    "decoded=''.join(decoded)\n",
    "pattern= re.compile(r\"(?<=\\w)[\\!\\@\\#\\$\\%\\&\\s]+(?=\\w+)\")\n",
    "print(re.sub(pattern,\" \",decoded))"
   ]
  },
  {
   "cell_type": "markdown",
   "metadata": {},
   "source": [
    "### 11. XML"
   ]
  },
  {
   "cell_type": "markdown",
   "metadata": {},
   "source": [
    "XML 1 - Find the Score"
   ]
  },
  {
   "cell_type": "code",
   "execution_count": null,
   "metadata": {},
   "outputs": [],
   "source": [
    "import sys\n",
    "import xml.etree.ElementTree as etree\n",
    "\n",
    "def get_attr_number(node):\n",
    "    # your code goes here\n",
    "    return len(node.keys()) + sum(get_attr_number(x) for x in node)\n",
    "\n",
    "if __name__ == '__main__':\n",
    "    sys.stdin.readline()\n",
    "    xml = sys.stdin.read()\n",
    "    tree = etree.ElementTree(etree.fromstring(xml))\n",
    "    root = tree.getroot()\n",
    "    print(get_attr_number(root))"
   ]
  },
  {
   "cell_type": "markdown",
   "metadata": {},
   "source": [
    "XML2 - Find the Maximum Depth"
   ]
  },
  {
   "cell_type": "code",
   "execution_count": null,
   "metadata": {},
   "outputs": [],
   "source": [
    "import xml.etree.ElementTree as etree\n",
    "\n",
    "maxdepth = 0\n",
    "def depth(elem, level):\n",
    "    global maxdepth\n",
    "    # your code goes here\n",
    "    elements = list(elem.iter())\n",
    "    if len(elements) == 1:\n",
    "        maxdepth = max(maxdepth, level+1)\n",
    "    else:\n",
    "        for i in range(1, len(elements)):\n",
    "            depth(elements[i], level+1)\n",
    "\n",
    "if __name__ == '__main__':\n",
    "    n = int(input())\n",
    "    xml = \"\"\n",
    "    for i in range(n):\n",
    "        xml =  xml + input() + \"\\n\"\n",
    "    tree = etree.ElementTree(etree.fromstring(xml))\n",
    "    depth(tree.getroot(), -1)\n",
    "    print(maxdepth)"
   ]
  },
  {
   "cell_type": "markdown",
   "metadata": {},
   "source": [
    "### 12. CLOSURES AND DECORATIONS"
   ]
  },
  {
   "cell_type": "markdown",
   "metadata": {},
   "source": [
    "Standardize mobile Number Using Decorators"
   ]
  },
  {
   "cell_type": "code",
   "execution_count": null,
   "metadata": {},
   "outputs": [],
   "source": [
    "def wrapper(f):\n",
    "    def fun(l):\n",
    "        # complete the function\n",
    "        formatted = []\n",
    "        for i in l:\n",
    "            form = ['+91',i[-10:-5],i[-5:]]\n",
    "            formatted.append( \" \".join(form))\n",
    "        f(formatted)\n",
    "    return fun\n",
    "\n",
    "@wrapper\n",
    "def sort_phone(l):\n",
    "    print(*sorted(l), sep='\\n')\n",
    "\n",
    "if __name__ == '__main__':\n",
    "    l = [input() for _ in range(int(input()))]\n",
    "    sort_phone(l) "
   ]
  },
  {
   "cell_type": "markdown",
   "metadata": {},
   "source": [
    "Decorators 2 - Name Directory"
   ]
  },
  {
   "cell_type": "code",
   "execution_count": null,
   "metadata": {},
   "outputs": [],
   "source": [
    "import operator\n",
    "\n",
    "def person_lister(f): \n",
    "    def inner(people):\n",
    "        # complete the function\n",
    "        people= sorted(people,key=lambda x: int(x[2]))\n",
    "        return [f(person) for person in people]\n",
    "    return inner\n",
    "\n",
    "@person_lister\n",
    "def name_format(person):\n",
    "    return (\"Mr. \" if person[3] == \"M\" else \"Ms. \") + person[0] + \" \" + person[1]\n",
    "\n",
    "if __name__ == '__main__':\n",
    "    people = [input().split() for i in range(int(input()))]\n",
    "    print(*name_format(people), sep='\\n')"
   ]
  },
  {
   "cell_type": "markdown",
   "metadata": {},
   "source": [
    "### 13. NUMPY"
   ]
  },
  {
   "cell_type": "markdown",
   "metadata": {},
   "source": [
    "Mean, Var, and Std"
   ]
  },
  {
   "cell_type": "code",
   "execution_count": null,
   "metadata": {},
   "outputs": [],
   "source": [
    "import numpy\n",
    "numpy.set_printoptions(legacy='1.13')\n",
    "n,m = map(int, input().split())\n",
    "arr= numpy.array([input().split() for _ in range(n)], int)\n",
    "print(numpy.mean(arr, axis = 1))\n",
    "print(numpy.var(arr, axis = 0))  \n",
    "print(numpy.std(arr)) \n",
    "# it gives 'wrong answer' because of a space in the output \n",
    "# i couldn't find a way to fix it, the values are correct but not the space between them"
   ]
  },
  {
   "cell_type": "markdown",
   "metadata": {},
   "source": [
    "Arrays"
   ]
  },
  {
   "cell_type": "code",
   "execution_count": null,
   "metadata": {},
   "outputs": [],
   "source": [
    "import numpy\n",
    "\n",
    "def arrays(arr):\n",
    "    arr.reverse()\n",
    "    return numpy.array(arr,float)\n",
    "    # complete this function\n",
    "    # use numpy.array\n",
    "\n",
    "arr = input().strip().split(' ')\n",
    "result = arrays(arr)\n",
    "print(result)"
   ]
  },
  {
   "cell_type": "markdown",
   "metadata": {},
   "source": [
    "Shape and Reshape"
   ]
  },
  {
   "cell_type": "code",
   "execution_count": null,
   "metadata": {},
   "outputs": [],
   "source": [
    "import numpy\n",
    "arr = numpy.array(list(map(int, input().split())))\n",
    "arr.shape = (3,3)\n",
    "print(arr)"
   ]
  },
  {
   "cell_type": "markdown",
   "metadata": {},
   "source": [
    "Transpose and Flatten"
   ]
  },
  {
   "cell_type": "code",
   "execution_count": null,
   "metadata": {},
   "outputs": [],
   "source": [
    "import numpy\n",
    "n,m = map(int, input().split())\n",
    "arr = []\n",
    "for _ in range(n):\n",
    "    arr.append(list(map(int, input().split())))\n",
    "arr = numpy.array(arr)\n",
    "\n",
    "print(numpy.transpose(arr))\n",
    "print(arr.flatten())"
   ]
  },
  {
   "cell_type": "markdown",
   "metadata": {},
   "source": [
    "Concatenate"
   ]
  },
  {
   "cell_type": "code",
   "execution_count": null,
   "metadata": {},
   "outputs": [],
   "source": [
    "import numpy\n",
    "P, N, M = map(int,input().split()) \n",
    "A = numpy.array([input().split() for _ in range(P)],int) \n",
    "B = numpy.array([input().split() for _ in range(N)],int) \n",
    "print(numpy.concatenate((A, B), axis = 0))"
   ]
  },
  {
   "cell_type": "markdown",
   "metadata": {},
   "source": [
    "Zeros and Ones"
   ]
  },
  {
   "cell_type": "code",
   "execution_count": null,
   "metadata": {},
   "outputs": [],
   "source": [
    "import numpy\n",
    "t = tuple(map(int, input().split()))\n",
    "print(numpy.zeros(t, dtype=int))\n",
    "print(numpy.ones(t, dtype=int))\n"
   ]
  },
  {
   "cell_type": "markdown",
   "metadata": {},
   "source": [
    "Eye and Identity"
   ]
  },
  {
   "cell_type": "code",
   "execution_count": null,
   "metadata": {},
   "outputs": [],
   "source": [
    "import numpy\n",
    "numpy.set_printoptions(legacy='1.13')\n",
    "n,m=map(int, input().split())\n",
    "if n==m:\n",
    "    print(numpy.identity(n))\n",
    "else:\n",
    "    print(numpy.eye(n,m, k=0))"
   ]
  },
  {
   "cell_type": "markdown",
   "metadata": {},
   "source": [
    "Array Mathematics"
   ]
  },
  {
   "cell_type": "code",
   "execution_count": null,
   "metadata": {},
   "outputs": [],
   "source": [
    "import numpy\n",
    "n,m = map(int,input().split())\n",
    "arr1 = numpy.array([input().split() for _ in range(n)],int)\n",
    "arr2 = numpy.array([input().split() for _ in range(n)],int)\n",
    "print(numpy.add(arr1,arr2))\n",
    "print(numpy.subtract(arr1,arr2))\n",
    "print(numpy.multiply(arr1,arr2))\n",
    "print(numpy.floor_divide(arr1,arr2))\n",
    "print(numpy.mod(arr1,arr2))\n",
    "print(numpy.power(arr1,arr2))"
   ]
  },
  {
   "cell_type": "markdown",
   "metadata": {},
   "source": [
    "Floor, Ceil and Rint"
   ]
  },
  {
   "cell_type": "code",
   "execution_count": null,
   "metadata": {},
   "outputs": [],
   "source": [
    "import numpy\n",
    "numpy.set_printoptions(legacy='1.13')\n",
    "A = numpy.array(input().split(), float)\n",
    "print(numpy.floor(A))\n",
    "print(numpy.ceil(A))\n",
    "print(numpy.rint(A))"
   ]
  },
  {
   "cell_type": "markdown",
   "metadata": {},
   "source": [
    "Sum and Prod"
   ]
  },
  {
   "cell_type": "code",
   "execution_count": null,
   "metadata": {},
   "outputs": [],
   "source": [
    "import numpy\n",
    "n,m=map(int,input().split())\n",
    "somma=numpy.sum([input().split() for _ in range(n)],axis =0,dtype=int)\n",
    "print(numpy.prod(somma))"
   ]
  },
  {
   "cell_type": "markdown",
   "metadata": {},
   "source": [
    "Min and Max"
   ]
  },
  {
   "cell_type": "code",
   "execution_count": null,
   "metadata": {},
   "outputs": [],
   "source": [
    "import numpy\n",
    "n,m = map(int, input().split())\n",
    "arr= numpy.array([input().split() for _ in range(n)], int)\n",
    "print(numpy.max(numpy.min(arr, axis = 1)))"
   ]
  },
  {
   "cell_type": "markdown",
   "metadata": {},
   "source": [
    "Dot and Cross"
   ]
  },
  {
   "cell_type": "code",
   "execution_count": null,
   "metadata": {},
   "outputs": [],
   "source": [
    "import numpy\n",
    "numpy.set_printoptions(legacy='1.13')\n",
    "n=int(input())\n",
    "A = numpy.array([input().split() for _ in range(n)], int)\n",
    "B = numpy.array([input().split() for _ in range(n)], int)\n",
    "print(numpy.dot(A,B))"
   ]
  },
  {
   "cell_type": "markdown",
   "metadata": {},
   "source": [
    "Inner and Outer"
   ]
  },
  {
   "cell_type": "code",
   "execution_count": null,
   "metadata": {},
   "outputs": [],
   "source": [
    "import numpy\n",
    "numpy.set_printoptions(legacy='1.13')\n",
    "A = numpy.array(input().split(), int)\n",
    "B = numpy.array(input().split(), int)\n",
    "print(numpy.inner(A,B))\n",
    "print(numpy.outer(A,B))"
   ]
  },
  {
   "cell_type": "markdown",
   "metadata": {},
   "source": [
    "Polynomials"
   ]
  },
  {
   "cell_type": "code",
   "execution_count": null,
   "metadata": {},
   "outputs": [],
   "source": [
    "import numpy\n",
    "numpy.set_printoptions(legacy='1.13')\n",
    "pol = numpy.array(input().split(),float)\n",
    "x=float(input())\n",
    "print(numpy.polyval(pol, x))"
   ]
  },
  {
   "cell_type": "markdown",
   "metadata": {},
   "source": [
    "Linear Algebra"
   ]
  },
  {
   "cell_type": "code",
   "execution_count": null,
   "metadata": {},
   "outputs": [],
   "source": [
    "import numpy\n",
    "numpy.set_printoptions(legacy='1.13')\n",
    "n=int(input())\n",
    "A = numpy.array([input().split() for _ in range(n)], float)\n",
    "print(numpy.linalg.det(A))"
   ]
  },
  {
   "cell_type": "markdown",
   "metadata": {},
   "source": [
    "## PROBLEM 2: More Python challenges on HACKER RANK"
   ]
  },
  {
   "cell_type": "markdown",
   "metadata": {},
   "source": [
    "Birthday Cake Candles"
   ]
  },
  {
   "cell_type": "code",
   "execution_count": null,
   "metadata": {},
   "outputs": [],
   "source": [
    "import math\n",
    "import os\n",
    "import random\n",
    "import re\n",
    "import sys\n",
    "from collections import Counter\n",
    "#\n",
    "# Complete the 'birthdayCakeCandles' function below.\n",
    "#\n",
    "# The function is expected to return an INTEGER.\n",
    "# The function accepts INTEGER_ARRAY candles as parameter.\n",
    "#\n",
    "\n",
    "def birthdayCakeCandles(candles):\n",
    "    return max(Counter(candles).values())\n",
    "    \n",
    "\n",
    "if __name__ == '__main__':\n",
    "    fptr = open(os.environ['OUTPUT_PATH'], 'w')\n",
    "\n",
    "    candles_count = int(input().strip())\n",
    "\n",
    "    candles = list(map(int, input().rstrip().split()))\n",
    "\n",
    "    result = birthdayCakeCandles(candles)\n",
    "\n",
    "    fptr.write(str(result) + '\\n')\n",
    "\n",
    "    fptr.close()"
   ]
  },
  {
   "cell_type": "markdown",
   "metadata": {},
   "source": [
    "Number Line Jumps"
   ]
  },
  {
   "cell_type": "code",
   "execution_count": null,
   "metadata": {},
   "outputs": [],
   "source": [
    "import math\n",
    "import os\n",
    "import random\n",
    "import re\n",
    "import sys\n",
    "\n",
    "#\n",
    "# Complete the 'kangaroo' function below.\n",
    "#\n",
    "# The function is expected to return a STRING.\n",
    "# The function accepts following parameters:\n",
    "#  1. INTEGER x1\n",
    "#  2. INTEGER v1\n",
    "#  3. INTEGER x2\n",
    "#  4. INTEGER v2\n",
    "#\n",
    "\n",
    "def kangaroo(x1, v1, x2, v2):\n",
    "    if v1>v2 and (x2-x1)%(v1-v2)==0:\n",
    "        return 'YES'\n",
    "    else:\n",
    "        return 'NO'\n",
    "\n",
    "if __name__ == '__main__':\n",
    "    fptr = open(os.environ['OUTPUT_PATH'], 'w')\n",
    "\n",
    "    first_multiple_input = input().rstrip().split()\n",
    "\n",
    "    x1 = int(first_multiple_input[0])\n",
    "\n",
    "    v1 = int(first_multiple_input[1])\n",
    "\n",
    "    x2 = int(first_multiple_input[2])\n",
    "\n",
    "    v2 = int(first_multiple_input[3])\n",
    "\n",
    "    result = kangaroo(x1, v1, x2, v2)\n",
    "\n",
    "    fptr.write(result + '\\n')\n",
    "\n",
    "    fptr.close()"
   ]
  },
  {
   "cell_type": "markdown",
   "metadata": {},
   "source": [
    "Viral Advertising"
   ]
  },
  {
   "cell_type": "code",
   "execution_count": null,
   "metadata": {},
   "outputs": [],
   "source": [
    "import math\n",
    "import os\n",
    "import random\n",
    "import re\n",
    "import sys\n",
    "\n",
    "#\n",
    "# Complete the 'viralAdvertising' function below.\n",
    "#\n",
    "# The function is expected to return an INTEGER.\n",
    "# The function accepts INTEGER n as parameter.\n",
    "#\n",
    "\n",
    "def viralAdvertising(n):\n",
    "    liked=[]\n",
    "    shared=[0,5]\n",
    "    liked= [0,2]\n",
    "    for i in range(2,n+1):\n",
    "        shared.append((shared[i-1]//2)*3)\n",
    "        liked.append(shared[i]//2)\n",
    "    return sum(liked)\n",
    "        \n",
    "\n",
    "if __name__ == '__main__':\n",
    "    fptr = open(os.environ['OUTPUT_PATH'], 'w')\n",
    "\n",
    "    n = int(input().strip())\n",
    "\n",
    "    result = viralAdvertising(n)\n",
    "\n",
    "    fptr.write(str(result) + '\\n')\n",
    "\n",
    "    fptr.close()\n"
   ]
  },
  {
   "cell_type": "markdown",
   "metadata": {},
   "source": [
    "Recursive Digit Sum"
   ]
  },
  {
   "cell_type": "code",
   "execution_count": null,
   "metadata": {},
   "outputs": [],
   "source": [
    "import math\n",
    "import os\n",
    "import random\n",
    "import re\n",
    "import sys\n",
    "\n",
    "#\n",
    "# Complete the 'superDigit' function below.\n",
    "#\n",
    "# The function is expected to return an INTEGER.\n",
    "# The function accepts following parameters:\n",
    "#  1. STRING n\n",
    "#  2. INTEGER k\n",
    "#\n",
    "\n",
    "def superDigit(n, k):\n",
    "    final = int(n)*k % 9\n",
    "    #(sum of the digits of n)=n mod 9, so then\n",
    "    #(sum of the digits of n)*k=n*k mod 9, which is equal to\n",
    "    #(first number after 1st iteration of superDigit)=n*k mod 9, and this concludes that\n",
    "    #(final result)=n*k mod 9\n",
    "    if final>0:\n",
    "        return final\n",
    "    else:\n",
    "        return 9\n",
    "    \n",
    "\n",
    "if __name__ == '__main__':\n",
    "    fptr = open(os.environ['OUTPUT_PATH'], 'w')\n",
    "\n",
    "    first_multiple_input = input().rstrip().split()\n",
    "\n",
    "    n = first_multiple_input[0]\n",
    "\n",
    "    k = int(first_multiple_input[1])\n",
    "\n",
    "    result = superDigit(n, k)\n",
    "\n",
    "    fptr.write(str(result) + '\\n')\n",
    "\n",
    "    fptr.close()"
   ]
  },
  {
   "cell_type": "markdown",
   "metadata": {},
   "source": [
    "Insertion Sort - Part 1"
   ]
  },
  {
   "cell_type": "code",
   "execution_count": null,
   "metadata": {},
   "outputs": [],
   "source": [
    "import math\n",
    "import os\n",
    "import random\n",
    "import re\n",
    "import sys\n",
    "\n",
    "#\n",
    "# Complete the 'insertionSort1' function below.\n",
    "#\n",
    "# The function accepts following parameters:\n",
    "#  1. INTEGER n\n",
    "#  2. INTEGER_ARRAY arr\n",
    "#\n",
    "\n",
    "def insertionSort1(n, arr):\n",
    "    i=n-1\n",
    "    sortarr=arr\n",
    "    x=arr[n-1]\n",
    "    while i>0:\n",
    "        if max(x,arr[i-1])==x:\n",
    "            sortarr[i]=x\n",
    "            print(*sortarr)\n",
    "            break\n",
    "        else:\n",
    "            sortarr[i]=arr[i-1]\n",
    "            print(*sortarr)\n",
    "            i -= 1\n",
    "    if i==0:\n",
    "        sortarr[0]=x\n",
    "        print(*sortarr)\n",
    "\n",
    "if __name__ == '__main__':\n",
    "    n = int(input().strip())\n",
    "\n",
    "    arr = list(map(int, input().rstrip().split()))\n",
    "\n",
    "    insertionSort1(n, arr)"
   ]
  },
  {
   "cell_type": "markdown",
   "metadata": {},
   "source": [
    "Insertion Sort - Part 2"
   ]
  },
  {
   "cell_type": "code",
   "execution_count": null,
   "metadata": {},
   "outputs": [],
   "source": [
    "import math\n",
    "import os\n",
    "import random\n",
    "import re\n",
    "import sys\n",
    "\n",
    "#\n",
    "# Complete the 'insertionSort2' function below.\n",
    "#\n",
    "# The function accepts following parameters:\n",
    "#  1. INTEGER n\n",
    "#  2. INTEGER_ARRAY arr\n",
    "#\n",
    "def insertionSort1(n, arr):\n",
    "    i=n-1\n",
    "    sortarr=arr\n",
    "    x=arr[n-1]\n",
    "    while i>0:\n",
    "        if max(x,arr[i-1])==x:\n",
    "            sortarr[i]=x\n",
    "            break\n",
    "        else:\n",
    "            sortarr[i]=arr[i-1]\n",
    "            i -= 1\n",
    "    if i==0:\n",
    "        sortarr[0]=x\n",
    "    return sortarr\n",
    "    \n",
    "#I copied and slightly modified the function from the previous code, \n",
    "#\n",
    "# I removed the prints and made it return the sorted array\n",
    " \n",
    "def insertionSort2(n, arr):\n",
    "    result=[arr[0]]\n",
    "    for i in range(1,n):\n",
    "        result.append(arr[i])\n",
    "        result = insertionSort1(i+1, result)\n",
    "        print(*result,*arr[i+1:], sep=' ')\n",
    "\n",
    "if __name__ == '__main__':\n",
    "    n = int(input().strip())\n",
    "\n",
    "    arr = list(map(int, input().rstrip().split()))\n",
    "\n",
    "    insertionSort2(n, arr)"
   ]
  }
 ],
 "metadata": {
  "kernelspec": {
   "display_name": "Python 3",
   "language": "python",
   "name": "python3"
  },
  "language_info": {
   "name": "python",
   "version": "3.11.6"
  },
  "orig_nbformat": 4
 },
 "nbformat": 4,
 "nbformat_minor": 2
}
